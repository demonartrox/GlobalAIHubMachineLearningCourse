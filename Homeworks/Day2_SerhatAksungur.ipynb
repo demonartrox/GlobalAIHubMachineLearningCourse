{
 "cells": [
  {
   "cell_type": "code",
   "execution_count": 25,
   "metadata": {
    "scrolled": true
   },
   "outputs": [
    {
     "name": "stdout",
     "output_type": "stream",
     "text": [
      "[0, 1, 2, 3, 4, 5, 6, 7]\n",
      "[4, 5, 6, 7, 0, 1, 2, 3]\n",
      "[[4, 5, 6, 7], [0, 1, 2, 3]]\n"
     ]
    }
   ],
   "source": [
    "n=8\n",
    "list1 = list(range(n))\n",
    "Half=len(list1)//2\n",
    "\n",
    "first_part = list1[:half]\n",
    "second_part = list1[half:]\n",
    "\n",
    "print(list1)\n",
    "print(second_part + first_part)\n",
    "print([second_part] + [first_part])"
   ]
  },
  {
   "cell_type": "code",
   "execution_count": 26,
   "metadata": {},
   "outputs": [
    {
     "name": "stdout",
     "output_type": "stream",
     "text": [
      "Tek sayı giriniz: 4\n",
      "Lütfen tek sayı giriniz\n",
      "Tek sayı giriniz: 45\n",
      "Listedeki çift sayılar : [0, 2, 4, 6, 8, 10, 12, 14, 16, 18, 20, 22, 24, 26, 28, 30, 32, 34, 36, 38, 40, 42, 44]\n",
      "Listedeki en büyük sayı: 44\n",
      "Toplam eleman sayısı   : 23\n"
     ]
    }
   ],
   "source": [
    "while True:\n",
    "    x=int(float(input(\"Tek sayı giriniz: \")))\n",
    "    list2=[]\n",
    "    if (x % 2) == 0:\n",
    "        print(\"Lütfen tek sayı giriniz\")  \n",
    "    \n",
    "    else:          \n",
    "        for i in range(0,x,2):\n",
    "            list2.append(i)\n",
    "        print(\"Listedeki çift sayılar :\",list2)\n",
    "        #print(\"en büyük sayı:\",i)        \n",
    "        #print(\"en büyük sayı: \"+ str(i))\n",
    "        print(\"Listedeki en büyük sayı: {}\".format(i))\n",
    "        print(\"Toplam eleman sayısı   :\", len(list2))\n",
    "        break"
   ]
  }
 ],
 "metadata": {
  "kernelspec": {
   "display_name": "Python 3",
   "language": "python",
   "name": "python3"
  },
  "language_info": {
   "codemirror_mode": {
    "name": "ipython",
    "version": 3
   },
   "file_extension": ".py",
   "mimetype": "text/x-python",
   "name": "python",
   "nbconvert_exporter": "python",
   "pygments_lexer": "ipython3",
   "version": "3.8.5"
  }
 },
 "nbformat": 4,
 "nbformat_minor": 4
}
